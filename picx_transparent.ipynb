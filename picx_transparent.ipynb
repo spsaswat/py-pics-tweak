{
 "cells": [
  {
   "cell_type": "code",
   "execution_count": 1,
   "id": "aab4954c-b49d-4955-b7af-7224dbe0bf36",
   "metadata": {
    "tags": []
   },
   "outputs": [],
   "source": [
    "import pandas as pd\n",
    "import numpy as np"
   ]
  },
  {
   "cell_type": "code",
   "execution_count": 10,
   "id": "52fa17e9-3356-4b6f-990a-dbb3b62a22fd",
   "metadata": {
    "tags": []
   },
   "outputs": [
    {
     "data": {
      "text/plain": [
       "'modified_rock-climbing.jpg'"
      ]
     },
     "execution_count": 10,
     "metadata": {},
     "output_type": "execute_result"
    }
   ],
   "source": [
    "from PIL import Image\n",
    "\n",
    "# Load the image\n",
    "image_path = 'rock-climbing-fin_oo_ar.jpg'\n",
    "image = Image.open(image_path)\n",
    "pixels = image.load()\n",
    "\n",
    "# Dimensions of the image\n",
    "width, height = image.size\n",
    "\n",
    "# Loop through all pixels in the image\n",
    "for x in range(width):\n",
    "    for y in range(height):\n",
    "        if pixels[x, y] == (255, 255, 255):\n",
    "            pixels[x, y] = (238, 218, 0)  # Change white pixels to (238,218,0)\n",
    "\n",
    "# Save the modified image\n",
    "output_path = 'modified_rock-climbing.jpg'\n",
    "image.save(output_path, 'JPEG')\n",
    "\n",
    "output_path\n"
   ]
  },
  {
   "cell_type": "code",
   "execution_count": 13,
   "id": "465ff833-6181-4673-aa2b-e73ce61bf55c",
   "metadata": {
    "tags": []
   },
   "outputs": [
    {
     "data": {
      "text/plain": [
       "'modified_rock-climbing.png'"
      ]
     },
     "execution_count": 13,
     "metadata": {},
     "output_type": "execute_result"
    }
   ],
   "source": [
    "from PIL import Image\n",
    "\n",
    "# Load the image\n",
    "image_path = 'rock-climbing-fin_oo_ar.jpg'\n",
    "image = Image.open(image_path)\n",
    "image = image.convert(\"RGBA\")  # Convert to RGBA to handle transparency\n",
    "\n",
    "pixels = image.load()\n",
    "\n",
    "# Dimensions of the image\n",
    "width, height = image.size\n",
    "\n",
    "# Loop through all pixels in the image\n",
    "for x in range(width):\n",
    "    for y in range(height):\n",
    "        if pixels[x, y][:3] == (255, 255, 255):\n",
    "            pixels[x, y] = (255, 255, 255, 0)  # Change white pixels to transparent\n",
    "\n",
    "# Save the modified image as PNG with transparency\n",
    "output_path = 'modified_rock-climbing.png'\n",
    "image.save(output_path, 'PNG')\n",
    "\n",
    "output_path\n"
   ]
  },
  {
   "cell_type": "code",
   "execution_count": 17,
   "id": "38e0545c-9960-487d-bd00-b245d8a20d29",
   "metadata": {
    "tags": []
   },
   "outputs": [
    {
     "data": {
      "text/plain": [
       "'modified_rock-climbing_1.png'"
      ]
     },
     "execution_count": 17,
     "metadata": {},
     "output_type": "execute_result"
    }
   ],
   "source": [
    "from PIL import Image\n",
    "\n",
    "# Load the image\n",
    "image_path = 'rock-climbing-fin_oo_ar.jpg'\n",
    "image = Image.open(image_path)\n",
    "image = image.convert(\"RGBA\")  # Convert to RGBA to handle transparency\n",
    "\n",
    "pixels = image.load()\n",
    "\n",
    "# Dimensions of the image\n",
    "width, height = image.size\n",
    "\n",
    "# Define the threshold for \"whitish\" pixels\n",
    "white_threshold = 195  # Pixels with RGB values above this will be considered white\n",
    "\n",
    "# Loop through all pixels in the image\n",
    "for x in range(width):\n",
    "    for y in range(height):\n",
    "        # Check if the pixel is close to white\n",
    "        if all(value > white_threshold for value in pixels[x, y][:3]):\n",
    "            pixels[x, y] = (255, 255, 255, 0)  # Change these pixels to transparent\n",
    "\n",
    "# Save the modified image as PNG with transparency\n",
    "output_path = 'modified_rock-climbing_1.png'\n",
    "image.save(output_path, 'PNG')\n",
    "\n",
    "output_path\n"
   ]
  },
  {
   "cell_type": "code",
   "execution_count": 18,
   "id": "033a1e6f-affc-4a38-b2bd-01c5582b61dd",
   "metadata": {
    "tags": []
   },
   "outputs": [
    {
     "data": {
      "text/plain": [
       "'modified_rock-climbing_2.png'"
      ]
     },
     "execution_count": 18,
     "metadata": {},
     "output_type": "execute_result"
    }
   ],
   "source": [
    "from PIL import Image\n",
    "\n",
    "# Load the image\n",
    "image_path = 'rock-climbing-tshrt.jpg'\n",
    "image = Image.open(image_path)\n",
    "image = image.convert(\"RGBA\")  # Convert to RGBA to handle transparency\n",
    "\n",
    "pixels = image.load()\n",
    "\n",
    "# Dimensions of the image\n",
    "width, height = image.size\n",
    "\n",
    "# Define the threshold for \"whitish\" pixels\n",
    "white_threshold = 195  # Pixels with RGB values above this will be considered white\n",
    "\n",
    "# Loop through all pixels in the image\n",
    "for x in range(width):\n",
    "    for y in range(height):\n",
    "        # Check if the pixel is close to white\n",
    "        if all(value > white_threshold for value in pixels[x, y][:3]):\n",
    "            pixels[x, y] = (255, 255, 255, 0)  # Change these pixels to transparent\n",
    "\n",
    "# Save the modified image as PNG with transparency\n",
    "output_path = 'modified_rock-climbing_2.png'\n",
    "image.save(output_path, 'PNG')\n",
    "\n",
    "output_path\n"
   ]
  },
  {
   "cell_type": "code",
   "execution_count": null,
   "id": "cd36f4bf-f13d-40db-a65e-5b89a523aca2",
   "metadata": {},
   "outputs": [],
   "source": []
  }
 ],
 "metadata": {
  "kernelspec": {
   "display_name": "Python 3 (ipykernel)",
   "language": "python",
   "name": "python3"
  },
  "language_info": {
   "codemirror_mode": {
    "name": "ipython",
    "version": 3
   },
   "file_extension": ".py",
   "mimetype": "text/x-python",
   "name": "python",
   "nbconvert_exporter": "python",
   "pygments_lexer": "ipython3",
   "version": "3.10.10"
  }
 },
 "nbformat": 4,
 "nbformat_minor": 5
}
